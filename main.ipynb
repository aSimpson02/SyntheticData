{
 "cells": [
  {
   "cell_type": "code",
   "execution_count": 4,
   "metadata": {},
   "outputs": [
    {
     "name": "stdout",
     "output_type": "stream",
     "text": [
      "  Patient ID         Day  Resting heart rate  Active heart rate   HRV  \\\n",
      "0       P001  01/01/2024                  78                 90  44.7   \n",
      "1       P001  02/01/2024                  74                127  63.4   \n",
      "2       P001  03/01/2024                  76                111  42.5   \n",
      "3       P001  04/01/2024                  71                111  31.0   \n",
      "4       P001  05/01/2024                  61                113  37.2   \n",
      "\n",
      "   Sleep duration  Respiratory rate  Body temperature  \\\n",
      "0             6.6              12.4              37.2   \n",
      "1             6.3              19.8              36.9   \n",
      "2             7.0              19.1              36.5   \n",
      "3             8.4              15.1              37.1   \n",
      "4             6.3              18.1              37.3   \n",
      "\n",
      "   Blood oxygen saturation  Activity levels  ...  Fetal movement (kick count)  \\\n",
      "0                       95             2084  ...                            0   \n",
      "1                       97             7041  ...                            0   \n",
      "2                       98             6907  ...                            0   \n",
      "3                       95             6124  ...                            0   \n",
      "4                       97             4137  ...                            0   \n",
      "\n",
      "  diabetes hypertension  Pregnancy outomce mood tracking  \\\n",
      "0       No           No                n.a       Anxious   \n",
      "1       No           No                n.a       Anxious   \n",
      "2       No           No                n.a       Neutral   \n",
      "3       No           No                n.a         Happy   \n",
      "4       No           No                n.a       Neutral   \n",
      "\n",
      "  diet & nutritional logs medication / prenatal vitamins taken   \\\n",
      "0                Balanced                                   NaN   \n",
      "1                Low iron                                   NaN   \n",
      "2                Cravings                                   NaN   \n",
      "3                Balanced                                   NaN   \n",
      "4                Balanced                                   NaN   \n",
      "\n",
      "   pre existing medical condition  Unnamed: 25 Unnamed: 26  \n",
      "0                             PCOS         NaN         NaN  \n",
      "1                             PCOS         NaN         NaN  \n",
      "2                             PCOS         NaN         NaN  \n",
      "3                             PCOS         NaN         NaN  \n",
      "4                             PCOS         NaN         NaN  \n",
      "\n",
      "[5 rows x 27 columns]\n"
     ]
    }
   ],
   "source": [
    "import pandas as pd\n",
    "\n",
    "# Load the dataset\n",
    "df = pd.read_csv('dataset.csv')\n",
    "\n",
    "# Display the first few rows of the dataset\n",
    "print(df.head())\n"
   ]
  },
  {
   "cell_type": "code",
   "execution_count": 5,
   "metadata": {},
   "outputs": [],
   "source": [
    "# Convert 'Day' column to datetime\n",
    "df['Day'] = pd.to_datetime(df['Day'], format='%d/%m/%Y')\n",
    "\n",
    "# Sort by Patient ID and Day to ensure chronological order\n",
    "df = df.sort_values(by=['Patient ID', 'Day'])\n",
    "\n",
    "# Convert continuous columns to numeric if necessary\n",
    "continuous_columns = ['Resting heart rate', 'Active heart rate', 'HRV', 'Sleep duration', \n",
    "                      'Respiratory rate', 'Body temperature', 'Blood oxygen saturation', \n",
    "                      'Activity levels', 'Calories burnt', 'Weight gain (kg)']\n",
    "df[continuous_columns] = df[continuous_columns].apply(pd.to_numeric, errors='coerce')\n"
   ]
  },
  {
   "cell_type": "code",
   "execution_count": 6,
   "metadata": {},
   "outputs": [
    {
     "name": "stdout",
     "output_type": "stream",
     "text": [
      "(270, 10, 10)\n"
     ]
    }
   ],
   "source": [
    "import numpy as np\n",
    "\n",
    "# Function to create time series windows (e.g., 10 days of data per patient)\n",
    "def create_time_series_windows(df, time_steps):\n",
    "    data = []\n",
    "    for patient_id in df['Patient ID'].unique():\n",
    "        patient_data = df[df['Patient ID'] == patient_id][continuous_columns].values\n",
    "        for i in range(len(patient_data) - time_steps):\n",
    "            data.append(patient_data[i:i + time_steps])\n",
    "    return np.array(data)\n",
    "\n",
    "time_steps = 10  # Example: 10 days of data\n",
    "time_series_data = create_time_series_windows(df, time_steps)\n",
    "print(time_series_data.shape)  # Should print something like (num_samples, 10, num_features)\n"
   ]
  },
  {
   "cell_type": "code",
   "execution_count": 7,
   "metadata": {},
   "outputs": [
    {
     "ename": "ModuleNotFoundError",
     "evalue": "No module named 'timegan'",
     "output_type": "error",
     "traceback": [
      "\u001b[1;31m---------------------------------------------------------------------------\u001b[0m",
      "\u001b[1;31mModuleNotFoundError\u001b[0m                       Traceback (most recent call last)",
      "Cell \u001b[1;32mIn[7], line 1\u001b[0m\n\u001b[1;32m----> 1\u001b[0m \u001b[38;5;28;01mfrom\u001b[39;00m \u001b[38;5;21;01mtimegan\u001b[39;00m \u001b[38;5;28;01mimport\u001b[39;00m TimeGAN\n\u001b[0;32m      3\u001b[0m \u001b[38;5;66;03m# Initialize the TimeGAN model with the appropriate time steps and feature count\u001b[39;00m\n\u001b[0;32m      4\u001b[0m num_features \u001b[38;5;241m=\u001b[39m \u001b[38;5;28mlen\u001b[39m(continuous_columns)  \u001b[38;5;66;03m# Number of features (e.g., 10 features)\u001b[39;00m\n",
      "\u001b[1;31mModuleNotFoundError\u001b[0m: No module named 'timegan'"
     ]
    }
   ],
   "source": [
    "from timegan import TimeGAN\n",
    "\n",
    "# Initialize the TimeGAN model with the appropriate time steps and feature count\n",
    "num_features = len(continuous_columns)  # Number of features (e.g., 10 features)\n",
    "model = TimeGAN(time_steps=time_steps, features=num_features)\n",
    "\n",
    "# Train the model on the time series data\n",
    "model.fit(time_series_data)\n",
    "\n",
    "# Generate synthetic time series data (e.g., 1000 samples)\n",
    "synthetic_data = model.sample(1000)\n",
    "print(synthetic_data.shape)  # Should print (1000, time_steps, num_features)\n"
   ]
  },
  {
   "cell_type": "code",
   "execution_count": null,
   "metadata": {},
   "outputs": [],
   "source": [
    "# Convert the synthetic data into a DataFrame for easy manipulation\n",
    "synthetic_df = pd.DataFrame(synthetic_data.reshape(-1, num_features), columns=continuous_columns)\n",
    "\n",
    "# Save the synthetic data to a new CSV file\n",
    "synthetic_df.to_csv('synthetic_pregnancy_data.csv', index=False)\n"
   ]
  }
 ],
 "metadata": {
  "kernelspec": {
   "display_name": "Python 3",
   "language": "python",
   "name": "python3"
  },
  "language_info": {
   "codemirror_mode": {
    "name": "ipython",
    "version": 3
   },
   "file_extension": ".py",
   "mimetype": "text/x-python",
   "name": "python",
   "nbconvert_exporter": "python",
   "pygments_lexer": "ipython3",
   "version": "3.12.8"
  }
 },
 "nbformat": 4,
 "nbformat_minor": 2
}

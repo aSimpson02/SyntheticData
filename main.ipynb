{
 "cells": [
  {
   "cell_type": "code",
   "execution_count": null,
   "metadata": {},
   "outputs": [],
   "source": [
    "import pandas as pd\n",
    "\n",
    "# Assuming `df` is your DataFrame with the data\n",
    "\n",
    "# Convert 'Day' to datetime\n",
    "df['Day'] = pd.to_datetime(df['Day'], format='%d/%m/%Y')\n",
    "\n",
    "# Sort the data by Patient ID and Day\n",
    "df = df.sort_values(by=['Patient ID', 'Day'])\n",
    "\n",
    "# Ensure numerical features are in the right format (e.g., floats for continuous variables)\n",
    "continuous_columns = ['Resting heart rate', 'Active heart rate', 'HRV', 'Sleep duration', \n",
    "                      'Respiratory rate', 'Body temperature', 'Blood oxygen saturation', \n",
    "                      'Activity levels', 'Calories burnt', 'Weight gain (kg)']\n",
    "\n",
    "df[continuous_columns] = df[continuous_columns].apply(pd.to_numeric, errors='coerce')"
   ]
  },
  {
   "cell_type": "code",
   "execution_count": null,
   "metadata": {},
   "outputs": [],
   "source": [
    "from timegan import TimeGAN\n",
    "\n",
    "# Prepare your data (make sure it's in the shape (num_samples, time_steps, num_features))\n",
    "# TimeGAN expects input data as 3D arrays: (samples, time_steps, features)\n",
    "time_steps = 10  # For example, 10 days of data as a sequence\n",
    "num_features = len(continuous_columns)  # Number of features for each time step\n",
    "\n",
    "# Example: Let's convert the data into time series windows (adjust time_steps as needed)\n",
    "def create_time_series_windows(df, time_steps):\n",
    "    data = []\n",
    "    for patient_id in df['Patient ID'].unique():\n",
    "        patient_data = df[df['Patient ID'] == patient_id][continuous_columns].values\n",
    "        for i in range(len(patient_data) - time_steps):\n",
    "            data.append(patient_data[i:i + time_steps])\n",
    "    return np.array(data)\n",
    "\n",
    "time_series_data = create_time_series_windows(df, time_steps)\n",
    "\n",
    "# Initialize and train the TimeGAN model\n",
    "model = TimeGAN(time_steps=time_steps, features=num_features)\n",
    "model.fit(time_series_data)  # AI learns the temporal dependencies and features\n",
    "\n",
    "# Generate synthetic time series data\n",
    "synthetic_data = model.sample(1000)  # Generate 1000 synthetic samples\n"
   ]
  }
 ],
 "metadata": {
  "kernelspec": {
   "display_name": "base",
   "language": "python",
   "name": "python3"
  },
  "language_info": {
   "name": "python",
   "version": "3.12.3"
  }
 },
 "nbformat": 4,
 "nbformat_minor": 2
}
